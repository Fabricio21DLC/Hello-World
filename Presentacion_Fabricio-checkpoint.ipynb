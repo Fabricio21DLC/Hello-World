{
 "cells": [
  {
   "cell_type": "markdown",
   "metadata": {},
   "source": [
    "<img style=\"float: right; margin: 0px 0px 15px 15px;\" src=\"https://scontent-dfw5-1.xx.fbcdn.net/v/t1.0-0/p206x206/1513815_790065011051147_5742134226891854904_n.jpg?_nc_cat=0&oh=29ef86876d3f620a7d21cd916dd3e8b4&oe=5B862B52 \" width=\"300px\" height=\"100px\" />\n",
    "# Presentación\n",
    "## <font color= blue>Fabricio Del Toro\n",
    "-20 años\n",
    "\n",
    "-Nacido en Colima\n",
    "\n",
    "-Estudiante Ing. en Nanotecnología\n"
   ]
  },
  {
   "cell_type": "markdown",
   "metadata": {},
   "source": [
    ">Me gustan lo videojuegos, especialmente en la computadora, Me gusta hacer deporte, Ir al gimnasio y salir con mis amigos. \n",
    ">Me gusta viajar, descansar.\n",
    ">Me gusta ver peliculas. "
   ]
  },
  {
   "cell_type": "markdown",
   "metadata": {},
   "source": [
    "$f(x)=\\frac{\\sin(os)}{cos(os)}=\\tan(os)$\n"
   ]
  },
  {
   "cell_type": "markdown",
   "metadata": {},
   "source": [
    "$\\alpha, \\beta$"
   ]
  },
  {
   "cell_type": "markdown",
   "metadata": {},
   "source": [
    "Espero que esta materia me de las herramientas para poder hacer simulaciones. \n",
    "Espero que no requiera conocimientos avanzados, que podamos aprender a un ritmo tranquilo.\n",
    "Que todo lo terminemos en el salón de clase "
   ]
  },
  {
   "cell_type": "code",
   "execution_count": null,
   "metadata": {},
   "outputs": [],
   "source": []
  }
 ],
 "metadata": {
  "kernelspec": {
   "display_name": "Python 3",
   "language": "python",
   "name": "python3"
  },
  "language_info": {
   "codemirror_mode": {
    "name": "ipython",
    "version": 3
   },
   "file_extension": ".py",
   "mimetype": "text/x-python",
   "name": "python",
   "nbconvert_exporter": "python",
   "pygments_lexer": "ipython3",
   "version": "3.6.4"
  }
 },
 "nbformat": 4,
 "nbformat_minor": 2
}
