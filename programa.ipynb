{
 "cells": [
  {
   "cell_type": "code",
   "execution_count": 1,
   "metadata": {},
   "outputs": [],
   "source": [
    "# Programa Adicional\n",
    "from time import sleep\n",
    "def print_words(sentence):\n",
    "    for word in sentence.split():\n",
    "        for l in word:\n",
    "            sleep(.05)\n",
    "            print(l, end = '')\n",
    "        print(end = ' ')\n",
    "        "
   ]
  },
  {
   "cell_type": "code",
   "execution_count": 2,
   "metadata": {},
   "outputs": [
    {
     "name": "stdout",
     "output_type": "stream",
     "text": [
      "Hola me gustaria saber mas sobre ti "
     ]
    }
   ],
   "source": [
    "dialogue1 = 'Hola me gustaria saber mas sobre ti '\n",
    "print_words(dialogue1)"
   ]
  },
  {
   "cell_type": "code",
   "execution_count": 3,
   "metadata": {},
   "outputs": [
    {
     "name": "stdout",
     "output_type": "stream",
     "text": [
      "¿Me podrias dar tu nombre? "
     ]
    }
   ],
   "source": [
    "dialogue2 = \"¿Me podrias dar tu nombre?\"\n",
    "print_words(dialogue2)"
   ]
  },
  {
   "cell_type": "code",
   "execution_count": 4,
   "metadata": {},
   "outputs": [
    {
     "name": "stdout",
     "output_type": "stream",
     "text": [
      ">>>>>Fabricio\n"
     ]
    }
   ],
   "source": [
    "name= \">>>>>\"\n",
    "name1 = input(name)"
   ]
  },
  {
   "cell_type": "code",
   "execution_count": 5,
   "metadata": {},
   "outputs": [
    {
     "name": "stdout",
     "output_type": "stream",
     "text": [
      "Hola Fabricio, mi nombre es Fabricio y me agradas. "
     ]
    }
   ],
   "source": [
    "dialogue3 = 'Hola ' + name1 + ', mi nombre es Fabricio y me agradas.'\n",
    "print_words(dialogue3)"
   ]
  },
  {
   "cell_type": "code",
   "execution_count": 6,
   "metadata": {},
   "outputs": [
    {
     "name": "stdout",
     "output_type": "stream",
     "text": [
      "Donde vives Fabricio, ¿cuál es tu ciudad? "
     ]
    }
   ],
   "source": [
    "dialogue4 = 'Donde vives %s, ¿cuál es tu ciudad?' % name1\n",
    "print_words(dialogue4)"
   ]
  },
  {
   "cell_type": "code",
   "execution_count": 7,
   "metadata": {},
   "outputs": [
    {
     "name": "stdout",
     "output_type": "stream",
     "text": [
      ">>>>>Colima\n",
      "Colima suena interesante. "
     ]
    }
   ],
   "source": [
    "Place = input(name)\n",
    "dialogue6 = '%s suena interesante.' % Place\n",
    "print_words(dialogue6)"
   ]
  },
  {
   "cell_type": "code",
   "execution_count": 8,
   "metadata": {},
   "outputs": [
    {
     "name": "stdout",
     "output_type": "stream",
     "text": [
      "Nos vemos Fabricio, Un gusto conocerte. "
     ]
    }
   ],
   "source": [
    "dialogue5 = 'Nos vemos %s, Un gusto conocerte.' %name1 \n",
    "print_words(dialogue5)"
   ]
  },
  {
   "cell_type": "code",
   "execution_count": 9,
   "metadata": {},
   "outputs": [
    {
     "name": "stderr",
     "output_type": "stream",
     "text": [
      "ERROR:root:File `'programa.py'` not found.\n"
     ]
    }
   ],
   "source": [
    "%run programa.py"
   ]
  },
  {
   "cell_type": "code",
   "execution_count": null,
   "metadata": {},
   "outputs": [],
   "source": []
  },
  {
   "cell_type": "code",
   "execution_count": null,
   "metadata": {},
   "outputs": [],
   "source": []
  }
 ],
 "metadata": {
  "kernelspec": {
   "display_name": "Python 3",
   "language": "python",
   "name": "python3"
  },
  "language_info": {
   "codemirror_mode": {
    "name": "ipython",
    "version": 3
   },
   "file_extension": ".py",
   "mimetype": "text/x-python",
   "name": "python",
   "nbconvert_exporter": "python",
   "pygments_lexer": "ipython3",
   "version": "3.6.4"
  }
 },
 "nbformat": 4,
 "nbformat_minor": 2
}
